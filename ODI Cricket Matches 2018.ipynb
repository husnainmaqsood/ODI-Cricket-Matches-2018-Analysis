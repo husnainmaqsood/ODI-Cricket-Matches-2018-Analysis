{
 "cells": [
  {
   "cell_type": "code",
   "execution_count": 1,
   "metadata": {},
   "outputs": [],
   "source": [
    "import pandas as pd"
   ]
  },
  {
   "cell_type": "code",
   "execution_count": 2,
   "metadata": {},
   "outputs": [],
   "source": [
    "df = pd.read_excel(\"2018 ODI Cricket Matches.xlsx\")"
   ]
  },
  {
   "cell_type": "code",
   "execution_count": 3,
   "metadata": {},
   "outputs": [
    {
     "data": {
      "text/html": [
       "<div>\n",
       "<style scoped>\n",
       "    .dataframe tbody tr th:only-of-type {\n",
       "        vertical-align: middle;\n",
       "    }\n",
       "\n",
       "    .dataframe tbody tr th {\n",
       "        vertical-align: top;\n",
       "    }\n",
       "\n",
       "    .dataframe thead th {\n",
       "        text-align: right;\n",
       "    }\n",
       "</style>\n",
       "<table border=\"1\" class=\"dataframe\">\n",
       "  <thead>\n",
       "    <tr style=\"text-align: right;\">\n",
       "      <th></th>\n",
       "      <th>Team 1</th>\n",
       "      <th>Team 2</th>\n",
       "      <th>Winner</th>\n",
       "      <th>Margin</th>\n",
       "      <th>Ground</th>\n",
       "      <th>Match Date</th>\n",
       "      <th>Scorecard</th>\n",
       "    </tr>\n",
       "  </thead>\n",
       "  <tbody>\n",
       "    <tr>\n",
       "      <th>0</th>\n",
       "      <td>New Zealand</td>\n",
       "      <td>Pakistan</td>\n",
       "      <td>New Zealand</td>\n",
       "      <td>61 runs</td>\n",
       "      <td>Wellington</td>\n",
       "      <td>2018-01-06</td>\n",
       "      <td>ODI # 3946</td>\n",
       "    </tr>\n",
       "    <tr>\n",
       "      <th>1</th>\n",
       "      <td>New Zealand</td>\n",
       "      <td>Pakistan</td>\n",
       "      <td>New Zealand</td>\n",
       "      <td>8 wickets</td>\n",
       "      <td>Nelson</td>\n",
       "      <td>2018-01-09</td>\n",
       "      <td>ODI # 3947</td>\n",
       "    </tr>\n",
       "    <tr>\n",
       "      <th>2</th>\n",
       "      <td>U.A.E.</td>\n",
       "      <td>Ireland</td>\n",
       "      <td>Ireland</td>\n",
       "      <td>4 wickets</td>\n",
       "      <td>ICCA Dubai</td>\n",
       "      <td>2018-01-11</td>\n",
       "      <td>ODI # 3948</td>\n",
       "    </tr>\n",
       "    <tr>\n",
       "      <th>3</th>\n",
       "      <td>New Zealand</td>\n",
       "      <td>Pakistan</td>\n",
       "      <td>New Zealand</td>\n",
       "      <td>183 runs</td>\n",
       "      <td>Dunedin</td>\n",
       "      <td>2018-01-13</td>\n",
       "      <td>ODI # 3949</td>\n",
       "    </tr>\n",
       "    <tr>\n",
       "      <th>4</th>\n",
       "      <td>U.A.E.</td>\n",
       "      <td>Ireland</td>\n",
       "      <td>Ireland</td>\n",
       "      <td>67 runs</td>\n",
       "      <td>ICCA Dubai</td>\n",
       "      <td>2018-01-13</td>\n",
       "      <td>ODI # 3950</td>\n",
       "    </tr>\n",
       "  </tbody>\n",
       "</table>\n",
       "</div>"
      ],
      "text/plain": [
       "        Team 1    Team 2       Winner     Margin      Ground Match Date  \\\n",
       "0  New Zealand  Pakistan  New Zealand    61 runs  Wellington 2018-01-06   \n",
       "1  New Zealand  Pakistan  New Zealand  8 wickets      Nelson 2018-01-09   \n",
       "2       U.A.E.   Ireland      Ireland  4 wickets  ICCA Dubai 2018-01-11   \n",
       "3  New Zealand  Pakistan  New Zealand   183 runs     Dunedin 2018-01-13   \n",
       "4       U.A.E.   Ireland      Ireland    67 runs  ICCA Dubai 2018-01-13   \n",
       "\n",
       "    Scorecard  \n",
       "0  ODI # 3946  \n",
       "1  ODI # 3947  \n",
       "2  ODI # 3948  \n",
       "3  ODI # 3949  \n",
       "4  ODI # 3950  "
      ]
     },
     "execution_count": 3,
     "metadata": {},
     "output_type": "execute_result"
    }
   ],
   "source": [
    "df.head()"
   ]
  },
  {
   "cell_type": "code",
   "execution_count": 4,
   "metadata": {},
   "outputs": [
    {
     "data": {
      "text/plain": [
       "(128, 7)"
      ]
     },
     "execution_count": 4,
     "metadata": {},
     "output_type": "execute_result"
    }
   ],
   "source": [
    "df.shape"
   ]
  },
  {
   "cell_type": "code",
   "execution_count": 5,
   "metadata": {},
   "outputs": [],
   "source": [
    "Loser = []\n",
    "for team1,team2,winner in zip(df['Team 1'],df['Team 2'],df['Winner'] ):\n",
    "    if(team1 != winner):\n",
    "        Loser.append(team1)\n",
    "    else:\n",
    "        Loser.append(team2)\n",
    "\n",
    "df['Loser'] = Loser"
   ]
  },
  {
   "cell_type": "code",
   "execution_count": 6,
   "metadata": {},
   "outputs": [
    {
     "data": {
      "text/html": [
       "<div>\n",
       "<style scoped>\n",
       "    .dataframe tbody tr th:only-of-type {\n",
       "        vertical-align: middle;\n",
       "    }\n",
       "\n",
       "    .dataframe tbody tr th {\n",
       "        vertical-align: top;\n",
       "    }\n",
       "\n",
       "    .dataframe thead th {\n",
       "        text-align: right;\n",
       "    }\n",
       "</style>\n",
       "<table border=\"1\" class=\"dataframe\">\n",
       "  <thead>\n",
       "    <tr style=\"text-align: right;\">\n",
       "      <th></th>\n",
       "      <th>Team 1</th>\n",
       "      <th>Team 2</th>\n",
       "      <th>Winner</th>\n",
       "      <th>Margin</th>\n",
       "      <th>Ground</th>\n",
       "      <th>Match Date</th>\n",
       "      <th>Scorecard</th>\n",
       "      <th>Loser</th>\n",
       "    </tr>\n",
       "  </thead>\n",
       "  <tbody>\n",
       "    <tr>\n",
       "      <th>0</th>\n",
       "      <td>New Zealand</td>\n",
       "      <td>Pakistan</td>\n",
       "      <td>New Zealand</td>\n",
       "      <td>61 runs</td>\n",
       "      <td>Wellington</td>\n",
       "      <td>2018-01-06</td>\n",
       "      <td>ODI # 3946</td>\n",
       "      <td>Pakistan</td>\n",
       "    </tr>\n",
       "    <tr>\n",
       "      <th>1</th>\n",
       "      <td>New Zealand</td>\n",
       "      <td>Pakistan</td>\n",
       "      <td>New Zealand</td>\n",
       "      <td>8 wickets</td>\n",
       "      <td>Nelson</td>\n",
       "      <td>2018-01-09</td>\n",
       "      <td>ODI # 3947</td>\n",
       "      <td>Pakistan</td>\n",
       "    </tr>\n",
       "    <tr>\n",
       "      <th>2</th>\n",
       "      <td>U.A.E.</td>\n",
       "      <td>Ireland</td>\n",
       "      <td>Ireland</td>\n",
       "      <td>4 wickets</td>\n",
       "      <td>ICCA Dubai</td>\n",
       "      <td>2018-01-11</td>\n",
       "      <td>ODI # 3948</td>\n",
       "      <td>U.A.E.</td>\n",
       "    </tr>\n",
       "    <tr>\n",
       "      <th>3</th>\n",
       "      <td>New Zealand</td>\n",
       "      <td>Pakistan</td>\n",
       "      <td>New Zealand</td>\n",
       "      <td>183 runs</td>\n",
       "      <td>Dunedin</td>\n",
       "      <td>2018-01-13</td>\n",
       "      <td>ODI # 3949</td>\n",
       "      <td>Pakistan</td>\n",
       "    </tr>\n",
       "    <tr>\n",
       "      <th>4</th>\n",
       "      <td>U.A.E.</td>\n",
       "      <td>Ireland</td>\n",
       "      <td>Ireland</td>\n",
       "      <td>67 runs</td>\n",
       "      <td>ICCA Dubai</td>\n",
       "      <td>2018-01-13</td>\n",
       "      <td>ODI # 3950</td>\n",
       "      <td>U.A.E.</td>\n",
       "    </tr>\n",
       "  </tbody>\n",
       "</table>\n",
       "</div>"
      ],
      "text/plain": [
       "        Team 1    Team 2       Winner     Margin      Ground Match Date  \\\n",
       "0  New Zealand  Pakistan  New Zealand    61 runs  Wellington 2018-01-06   \n",
       "1  New Zealand  Pakistan  New Zealand  8 wickets      Nelson 2018-01-09   \n",
       "2       U.A.E.   Ireland      Ireland  4 wickets  ICCA Dubai 2018-01-11   \n",
       "3  New Zealand  Pakistan  New Zealand   183 runs     Dunedin 2018-01-13   \n",
       "4       U.A.E.   Ireland      Ireland    67 runs  ICCA Dubai 2018-01-13   \n",
       "\n",
       "    Scorecard     Loser  \n",
       "0  ODI # 3946  Pakistan  \n",
       "1  ODI # 3947  Pakistan  \n",
       "2  ODI # 3948    U.A.E.  \n",
       "3  ODI # 3949  Pakistan  \n",
       "4  ODI # 3950    U.A.E.  "
      ]
     },
     "execution_count": 6,
     "metadata": {},
     "output_type": "execute_result"
    }
   ],
   "source": [
    "df.head()"
   ]
  },
  {
   "cell_type": "code",
   "execution_count": 7,
   "metadata": {},
   "outputs": [],
   "source": [
    "import numpy as np"
   ]
  },
  {
   "cell_type": "code",
   "execution_count": 8,
   "metadata": {},
   "outputs": [],
   "source": [
    "win_by_runs = []\n",
    "for margin in df['Margin'].astype(str):\n",
    "    if('runs' in margin):\n",
    "        win_by_runs.append(margin)\n",
    "    else:\n",
    "        win_by_runs.append(np.nan)\n",
    "df['Win by Runs'] = win_by_runs"
   ]
  },
  {
   "cell_type": "code",
   "execution_count": 9,
   "metadata": {},
   "outputs": [
    {
     "data": {
      "text/html": [
       "<div>\n",
       "<style scoped>\n",
       "    .dataframe tbody tr th:only-of-type {\n",
       "        vertical-align: middle;\n",
       "    }\n",
       "\n",
       "    .dataframe tbody tr th {\n",
       "        vertical-align: top;\n",
       "    }\n",
       "\n",
       "    .dataframe thead th {\n",
       "        text-align: right;\n",
       "    }\n",
       "</style>\n",
       "<table border=\"1\" class=\"dataframe\">\n",
       "  <thead>\n",
       "    <tr style=\"text-align: right;\">\n",
       "      <th></th>\n",
       "      <th>Team 1</th>\n",
       "      <th>Team 2</th>\n",
       "      <th>Winner</th>\n",
       "      <th>Margin</th>\n",
       "      <th>Ground</th>\n",
       "      <th>Match Date</th>\n",
       "      <th>Scorecard</th>\n",
       "      <th>Loser</th>\n",
       "      <th>Win by Runs</th>\n",
       "    </tr>\n",
       "  </thead>\n",
       "  <tbody>\n",
       "    <tr>\n",
       "      <th>0</th>\n",
       "      <td>New Zealand</td>\n",
       "      <td>Pakistan</td>\n",
       "      <td>New Zealand</td>\n",
       "      <td>61 runs</td>\n",
       "      <td>Wellington</td>\n",
       "      <td>2018-01-06</td>\n",
       "      <td>ODI # 3946</td>\n",
       "      <td>Pakistan</td>\n",
       "      <td>61 runs</td>\n",
       "    </tr>\n",
       "    <tr>\n",
       "      <th>1</th>\n",
       "      <td>New Zealand</td>\n",
       "      <td>Pakistan</td>\n",
       "      <td>New Zealand</td>\n",
       "      <td>8 wickets</td>\n",
       "      <td>Nelson</td>\n",
       "      <td>2018-01-09</td>\n",
       "      <td>ODI # 3947</td>\n",
       "      <td>Pakistan</td>\n",
       "      <td>NaN</td>\n",
       "    </tr>\n",
       "    <tr>\n",
       "      <th>2</th>\n",
       "      <td>U.A.E.</td>\n",
       "      <td>Ireland</td>\n",
       "      <td>Ireland</td>\n",
       "      <td>4 wickets</td>\n",
       "      <td>ICCA Dubai</td>\n",
       "      <td>2018-01-11</td>\n",
       "      <td>ODI # 3948</td>\n",
       "      <td>U.A.E.</td>\n",
       "      <td>NaN</td>\n",
       "    </tr>\n",
       "    <tr>\n",
       "      <th>3</th>\n",
       "      <td>New Zealand</td>\n",
       "      <td>Pakistan</td>\n",
       "      <td>New Zealand</td>\n",
       "      <td>183 runs</td>\n",
       "      <td>Dunedin</td>\n",
       "      <td>2018-01-13</td>\n",
       "      <td>ODI # 3949</td>\n",
       "      <td>Pakistan</td>\n",
       "      <td>183 runs</td>\n",
       "    </tr>\n",
       "    <tr>\n",
       "      <th>4</th>\n",
       "      <td>U.A.E.</td>\n",
       "      <td>Ireland</td>\n",
       "      <td>Ireland</td>\n",
       "      <td>67 runs</td>\n",
       "      <td>ICCA Dubai</td>\n",
       "      <td>2018-01-13</td>\n",
       "      <td>ODI # 3950</td>\n",
       "      <td>U.A.E.</td>\n",
       "      <td>67 runs</td>\n",
       "    </tr>\n",
       "  </tbody>\n",
       "</table>\n",
       "</div>"
      ],
      "text/plain": [
       "        Team 1    Team 2       Winner     Margin      Ground Match Date  \\\n",
       "0  New Zealand  Pakistan  New Zealand    61 runs  Wellington 2018-01-06   \n",
       "1  New Zealand  Pakistan  New Zealand  8 wickets      Nelson 2018-01-09   \n",
       "2       U.A.E.   Ireland      Ireland  4 wickets  ICCA Dubai 2018-01-11   \n",
       "3  New Zealand  Pakistan  New Zealand   183 runs     Dunedin 2018-01-13   \n",
       "4       U.A.E.   Ireland      Ireland    67 runs  ICCA Dubai 2018-01-13   \n",
       "\n",
       "    Scorecard     Loser Win by Runs  \n",
       "0  ODI # 3946  Pakistan     61 runs  \n",
       "1  ODI # 3947  Pakistan         NaN  \n",
       "2  ODI # 3948    U.A.E.         NaN  \n",
       "3  ODI # 3949  Pakistan    183 runs  \n",
       "4  ODI # 3950    U.A.E.     67 runs  "
      ]
     },
     "execution_count": 9,
     "metadata": {},
     "output_type": "execute_result"
    }
   ],
   "source": [
    "df.head()"
   ]
  },
  {
   "cell_type": "code",
   "execution_count": 10,
   "metadata": {},
   "outputs": [],
   "source": [
    "win_by_wickets = []\n",
    "for margin in df['Margin'].astype(str):\n",
    "    if('wickets' in margin):\n",
    "        win_by_wickets.append(margin)\n",
    "    else:\n",
    "        win_by_wickets.append(np.nan)\n",
    "df['Win by Wickets'] = win_by_wickets"
   ]
  },
  {
   "cell_type": "code",
   "execution_count": 11,
   "metadata": {},
   "outputs": [
    {
     "data": {
      "text/html": [
       "<div>\n",
       "<style scoped>\n",
       "    .dataframe tbody tr th:only-of-type {\n",
       "        vertical-align: middle;\n",
       "    }\n",
       "\n",
       "    .dataframe tbody tr th {\n",
       "        vertical-align: top;\n",
       "    }\n",
       "\n",
       "    .dataframe thead th {\n",
       "        text-align: right;\n",
       "    }\n",
       "</style>\n",
       "<table border=\"1\" class=\"dataframe\">\n",
       "  <thead>\n",
       "    <tr style=\"text-align: right;\">\n",
       "      <th></th>\n",
       "      <th>Team 1</th>\n",
       "      <th>Team 2</th>\n",
       "      <th>Winner</th>\n",
       "      <th>Margin</th>\n",
       "      <th>Ground</th>\n",
       "      <th>Match Date</th>\n",
       "      <th>Scorecard</th>\n",
       "      <th>Loser</th>\n",
       "      <th>Win by Runs</th>\n",
       "      <th>Win by Wickets</th>\n",
       "    </tr>\n",
       "  </thead>\n",
       "  <tbody>\n",
       "    <tr>\n",
       "      <th>0</th>\n",
       "      <td>New Zealand</td>\n",
       "      <td>Pakistan</td>\n",
       "      <td>New Zealand</td>\n",
       "      <td>61 runs</td>\n",
       "      <td>Wellington</td>\n",
       "      <td>2018-01-06</td>\n",
       "      <td>ODI # 3946</td>\n",
       "      <td>Pakistan</td>\n",
       "      <td>61 runs</td>\n",
       "      <td>NaN</td>\n",
       "    </tr>\n",
       "    <tr>\n",
       "      <th>1</th>\n",
       "      <td>New Zealand</td>\n",
       "      <td>Pakistan</td>\n",
       "      <td>New Zealand</td>\n",
       "      <td>8 wickets</td>\n",
       "      <td>Nelson</td>\n",
       "      <td>2018-01-09</td>\n",
       "      <td>ODI # 3947</td>\n",
       "      <td>Pakistan</td>\n",
       "      <td>NaN</td>\n",
       "      <td>8 wickets</td>\n",
       "    </tr>\n",
       "    <tr>\n",
       "      <th>2</th>\n",
       "      <td>U.A.E.</td>\n",
       "      <td>Ireland</td>\n",
       "      <td>Ireland</td>\n",
       "      <td>4 wickets</td>\n",
       "      <td>ICCA Dubai</td>\n",
       "      <td>2018-01-11</td>\n",
       "      <td>ODI # 3948</td>\n",
       "      <td>U.A.E.</td>\n",
       "      <td>NaN</td>\n",
       "      <td>4 wickets</td>\n",
       "    </tr>\n",
       "    <tr>\n",
       "      <th>3</th>\n",
       "      <td>New Zealand</td>\n",
       "      <td>Pakistan</td>\n",
       "      <td>New Zealand</td>\n",
       "      <td>183 runs</td>\n",
       "      <td>Dunedin</td>\n",
       "      <td>2018-01-13</td>\n",
       "      <td>ODI # 3949</td>\n",
       "      <td>Pakistan</td>\n",
       "      <td>183 runs</td>\n",
       "      <td>NaN</td>\n",
       "    </tr>\n",
       "    <tr>\n",
       "      <th>4</th>\n",
       "      <td>U.A.E.</td>\n",
       "      <td>Ireland</td>\n",
       "      <td>Ireland</td>\n",
       "      <td>67 runs</td>\n",
       "      <td>ICCA Dubai</td>\n",
       "      <td>2018-01-13</td>\n",
       "      <td>ODI # 3950</td>\n",
       "      <td>U.A.E.</td>\n",
       "      <td>67 runs</td>\n",
       "      <td>NaN</td>\n",
       "    </tr>\n",
       "  </tbody>\n",
       "</table>\n",
       "</div>"
      ],
      "text/plain": [
       "        Team 1    Team 2       Winner     Margin      Ground Match Date  \\\n",
       "0  New Zealand  Pakistan  New Zealand    61 runs  Wellington 2018-01-06   \n",
       "1  New Zealand  Pakistan  New Zealand  8 wickets      Nelson 2018-01-09   \n",
       "2       U.A.E.   Ireland      Ireland  4 wickets  ICCA Dubai 2018-01-11   \n",
       "3  New Zealand  Pakistan  New Zealand   183 runs     Dunedin 2018-01-13   \n",
       "4       U.A.E.   Ireland      Ireland    67 runs  ICCA Dubai 2018-01-13   \n",
       "\n",
       "    Scorecard     Loser Win by Runs Win by Wickets  \n",
       "0  ODI # 3946  Pakistan     61 runs            NaN  \n",
       "1  ODI # 3947  Pakistan         NaN      8 wickets  \n",
       "2  ODI # 3948    U.A.E.         NaN      4 wickets  \n",
       "3  ODI # 3949  Pakistan    183 runs            NaN  \n",
       "4  ODI # 3950    U.A.E.     67 runs            NaN  "
      ]
     },
     "execution_count": 11,
     "metadata": {},
     "output_type": "execute_result"
    }
   ],
   "source": [
    "df.head()"
   ]
  },
  {
   "cell_type": "markdown",
   "metadata": {},
   "source": [
    "# Which Country played most ODI in 2018"
   ]
  },
  {
   "cell_type": "code",
   "execution_count": 12,
   "metadata": {},
   "outputs": [],
   "source": [
    "match_playing_team = list(df['Team 1']) + list(df['Team 2'])\n",
    "df2 = pd.DataFrame(np.unique(match_playing_team,return_counts=True))\n",
    "df2 = df2.transpose()\n",
    "df2.columns = ['Team', 'No of Matches']\n",
    "df2 = df2.sort_values(by = 'No of Matches',ascending=False)"
   ]
  },
  {
   "cell_type": "code",
   "execution_count": 13,
   "metadata": {},
   "outputs": [],
   "source": [
    "import matplotlib.pyplot as plt\n",
    "%matplotlib inline"
   ]
  },
  {
   "cell_type": "code",
   "execution_count": null,
   "metadata": {},
   "outputs": [],
   "source": []
  },
  {
   "cell_type": "code",
   "execution_count": 14,
   "metadata": {},
   "outputs": [
    {
     "data": {
      "text/plain": [
       "17       Zimbabwe\n",
       "3         England\n",
       "5           India\n",
       "0     Afghanistan\n",
       "2      Bangladesh\n",
       "Name: Team, dtype: object"
      ]
     },
     "execution_count": 14,
     "metadata": {},
     "output_type": "execute_result"
    }
   ],
   "source": [
    "df2['Team'][0:5]"
   ]
  },
  {
   "cell_type": "code",
   "execution_count": 15,
   "metadata": {},
   "outputs": [
    {
     "data": {
      "text/html": [
       "<div>\n",
       "<style scoped>\n",
       "    .dataframe tbody tr th:only-of-type {\n",
       "        vertical-align: middle;\n",
       "    }\n",
       "\n",
       "    .dataframe tbody tr th {\n",
       "        vertical-align: top;\n",
       "    }\n",
       "\n",
       "    .dataframe thead th {\n",
       "        text-align: right;\n",
       "    }\n",
       "</style>\n",
       "<table border=\"1\" class=\"dataframe\">\n",
       "  <thead>\n",
       "    <tr style=\"text-align: right;\">\n",
       "      <th></th>\n",
       "      <th>Team</th>\n",
       "      <th>No of Matches</th>\n",
       "    </tr>\n",
       "  </thead>\n",
       "  <tbody>\n",
       "    <tr>\n",
       "      <th>17</th>\n",
       "      <td>Zimbabwe</td>\n",
       "      <td>26</td>\n",
       "    </tr>\n",
       "    <tr>\n",
       "      <th>3</th>\n",
       "      <td>England</td>\n",
       "      <td>24</td>\n",
       "    </tr>\n",
       "    <tr>\n",
       "      <th>5</th>\n",
       "      <td>India</td>\n",
       "      <td>20</td>\n",
       "    </tr>\n",
       "    <tr>\n",
       "      <th>0</th>\n",
       "      <td>Afghanistan</td>\n",
       "      <td>20</td>\n",
       "    </tr>\n",
       "    <tr>\n",
       "      <th>2</th>\n",
       "      <td>Bangladesh</td>\n",
       "      <td>20</td>\n",
       "    </tr>\n",
       "  </tbody>\n",
       "</table>\n",
       "</div>"
      ],
      "text/plain": [
       "           Team No of Matches\n",
       "17     Zimbabwe            26\n",
       "3       England            24\n",
       "5         India            20\n",
       "0   Afghanistan            20\n",
       "2    Bangladesh            20"
      ]
     },
     "execution_count": 15,
     "metadata": {},
     "output_type": "execute_result"
    }
   ],
   "source": [
    "df2.head()"
   ]
  },
  {
   "cell_type": "code",
   "execution_count": 16,
   "metadata": {},
   "outputs": [
    {
     "data": {
      "image/png": "[encoded data removed]",
      "text/plain": [
       "<Figure size 720x432 with 1 Axes>"
      ]
     },
     "metadata": {
      "needs_background": "light"
     },
     "output_type": "display_data"
    }
   ],
   "source": [
    "plt.figure(figsize=(10,6))\n",
    "plt.xlabel('Teams')\n",
    "plt.ylabel('No of Matches Played')\n",
    "plt.bar(list(df2['Team'][0:5]) , list(df2['No of Matches'][0:5]) ,color=['Red','Cyan','Blue','Blue','Green'])\n",
    "plt.show()"
   ]
  },
  {
   "cell_type": "markdown",
   "metadata": {},
   "source": [
    "It is shown that Zimbabwe played most ODI Matches in 2018"
   ]
  },
  {
   "cell_type": "code",
   "execution_count": null,
   "metadata": {},
   "outputs": [],
   "source": []
  },
  {
   "cell_type": "markdown",
   "metadata": {},
   "source": [
    "# Top 3 Winner Countries"
   ]
  },
  {
   "cell_type": "code",
   "execution_count": 17,
   "metadata": {},
   "outputs": [
    {
     "data": {
      "text/plain": [
       "England       17\n",
       "India         14\n",
       "Bangladesh    13\n",
       "Name: Winner, dtype: int64"
      ]
     },
     "execution_count": 17,
     "metadata": {},
     "output_type": "execute_result"
    }
   ],
   "source": [
    "df.Winner.value_counts()[0:3]"
   ]
  },
  {
   "cell_type": "code",
   "execution_count": 18,
   "metadata": {},
   "outputs": [
    {
     "data": {
      "image/png": "[encoded data removed]",
      "text/plain": [
       "<Figure size 720x432 with 1 Axes>"
      ]
     },
     "metadata": {
      "needs_background": "light"
     },
     "output_type": "display_data"
    }
   ],
   "source": [
    "plt.figure(figsize=(10,6))\n",
    "plt.xlabel('Teams')\n",
    "plt.ylabel('No of Matches Won')\n",
    "plt.bar(list(df.Winner.value_counts()[0:3].keys()) , list(df.Winner.value_counts()[0:3].values) , color = ['Cyan','Blue','Green'])\n",
    "plt.show()"
   ]
  },
  {
   "cell_type": "markdown",
   "metadata": {},
   "source": [
    "Top 3 winner countries were England , India and Bangladesh"
   ]
  },
  {
   "cell_type": "code",
   "execution_count": null,
   "metadata": {},
   "outputs": [],
   "source": []
  },
  {
   "cell_type": "markdown",
   "metadata": {},
   "source": [
    "# Top 3 Win by Runs\n",
    "The country which played first"
   ]
  },
  {
   "cell_type": "code",
   "execution_count": 19,
   "metadata": {},
   "outputs": [
    {
     "data": {
      "text/html": [
       "<div>\n",
       "<style scoped>\n",
       "    .dataframe tbody tr th:only-of-type {\n",
       "        vertical-align: middle;\n",
       "    }\n",
       "\n",
       "    .dataframe tbody tr th {\n",
       "        vertical-align: top;\n",
       "    }\n",
       "\n",
       "    .dataframe thead th {\n",
       "        text-align: right;\n",
       "    }\n",
       "</style>\n",
       "<table border=\"1\" class=\"dataframe\">\n",
       "  <thead>\n",
       "    <tr style=\"text-align: right;\">\n",
       "      <th></th>\n",
       "      <th>Team 1</th>\n",
       "      <th>Team 2</th>\n",
       "      <th>Winner</th>\n",
       "      <th>Margin</th>\n",
       "      <th>Ground</th>\n",
       "      <th>Match Date</th>\n",
       "      <th>Scorecard</th>\n",
       "      <th>Loser</th>\n",
       "      <th>Win by Runs</th>\n",
       "      <th>Win by Wickets</th>\n",
       "    </tr>\n",
       "  </thead>\n",
       "  <tbody>\n",
       "    <tr>\n",
       "      <th>0</th>\n",
       "      <td>New Zealand</td>\n",
       "      <td>Pakistan</td>\n",
       "      <td>New Zealand</td>\n",
       "      <td>61 runs</td>\n",
       "      <td>Wellington</td>\n",
       "      <td>2018-01-06</td>\n",
       "      <td>ODI # 3946</td>\n",
       "      <td>Pakistan</td>\n",
       "      <td>61 runs</td>\n",
       "      <td>NaN</td>\n",
       "    </tr>\n",
       "    <tr>\n",
       "      <th>1</th>\n",
       "      <td>New Zealand</td>\n",
       "      <td>Pakistan</td>\n",
       "      <td>New Zealand</td>\n",
       "      <td>8 wickets</td>\n",
       "      <td>Nelson</td>\n",
       "      <td>2018-01-09</td>\n",
       "      <td>ODI # 3947</td>\n",
       "      <td>Pakistan</td>\n",
       "      <td>NaN</td>\n",
       "      <td>8 wickets</td>\n",
       "    </tr>\n",
       "    <tr>\n",
       "      <th>2</th>\n",
       "      <td>U.A.E.</td>\n",
       "      <td>Ireland</td>\n",
       "      <td>Ireland</td>\n",
       "      <td>4 wickets</td>\n",
       "      <td>ICCA Dubai</td>\n",
       "      <td>2018-01-11</td>\n",
       "      <td>ODI # 3948</td>\n",
       "      <td>U.A.E.</td>\n",
       "      <td>NaN</td>\n",
       "      <td>4 wickets</td>\n",
       "    </tr>\n",
       "    <tr>\n",
       "      <th>3</th>\n",
       "      <td>New Zealand</td>\n",
       "      <td>Pakistan</td>\n",
       "      <td>New Zealand</td>\n",
       "      <td>183 runs</td>\n",
       "      <td>Dunedin</td>\n",
       "      <td>2018-01-13</td>\n",
       "      <td>ODI # 3949</td>\n",
       "      <td>Pakistan</td>\n",
       "      <td>183 runs</td>\n",
       "      <td>NaN</td>\n",
       "    </tr>\n",
       "    <tr>\n",
       "      <th>4</th>\n",
       "      <td>U.A.E.</td>\n",
       "      <td>Ireland</td>\n",
       "      <td>Ireland</td>\n",
       "      <td>67 runs</td>\n",
       "      <td>ICCA Dubai</td>\n",
       "      <td>2018-01-13</td>\n",
       "      <td>ODI # 3950</td>\n",
       "      <td>U.A.E.</td>\n",
       "      <td>67 runs</td>\n",
       "      <td>NaN</td>\n",
       "    </tr>\n",
       "  </tbody>\n",
       "</table>\n",
       "</div>"
      ],
      "text/plain": [
       "        Team 1    Team 2       Winner     Margin      Ground Match Date  \\\n",
       "0  New Zealand  Pakistan  New Zealand    61 runs  Wellington 2018-01-06   \n",
       "1  New Zealand  Pakistan  New Zealand  8 wickets      Nelson 2018-01-09   \n",
       "2       U.A.E.   Ireland      Ireland  4 wickets  ICCA Dubai 2018-01-11   \n",
       "3  New Zealand  Pakistan  New Zealand   183 runs     Dunedin 2018-01-13   \n",
       "4       U.A.E.   Ireland      Ireland    67 runs  ICCA Dubai 2018-01-13   \n",
       "\n",
       "    Scorecard     Loser Win by Runs Win by Wickets  \n",
       "0  ODI # 3946  Pakistan     61 runs            NaN  \n",
       "1  ODI # 3947  Pakistan         NaN      8 wickets  \n",
       "2  ODI # 3948    U.A.E.         NaN      4 wickets  \n",
       "3  ODI # 3949  Pakistan    183 runs            NaN  \n",
       "4  ODI # 3950    U.A.E.     67 runs            NaN  "
      ]
     },
     "execution_count": 19,
     "metadata": {},
     "output_type": "execute_result"
    }
   ],
   "source": [
    "df.head()"
   ]
  },
  {
   "cell_type": "code",
   "execution_count": 20,
   "metadata": {},
   "outputs": [],
   "source": [
    "win_by_runs_countries = []\n",
    "for winner, win_by_runs in zip(df['Winner'] , df['Win by Runs']):\n",
    "    if(win_by_runs is not np.nan):\n",
    "        win_by_runs_countries.append(winner)"
   ]
  },
  {
   "cell_type": "code",
   "execution_count": 21,
   "metadata": {},
   "outputs": [],
   "source": [
    "df3 = pd.DataFrame(np.unique(win_by_runs_countries ,return_counts=True)).transpose()"
   ]
  },
  {
   "cell_type": "code",
   "execution_count": 22,
   "metadata": {},
   "outputs": [],
   "source": [
    "df3.columns = ['Team', 'Matches Won by Runs']"
   ]
  },
  {
   "cell_type": "code",
   "execution_count": 23,
   "metadata": {},
   "outputs": [
    {
     "data": {
      "text/html": [
       "<div>\n",
       "<style scoped>\n",
       "    .dataframe tbody tr th:only-of-type {\n",
       "        vertical-align: middle;\n",
       "    }\n",
       "\n",
       "    .dataframe tbody tr th {\n",
       "        vertical-align: top;\n",
       "    }\n",
       "\n",
       "    .dataframe thead th {\n",
       "        text-align: right;\n",
       "    }\n",
       "</style>\n",
       "<table border=\"1\" class=\"dataframe\">\n",
       "  <thead>\n",
       "    <tr style=\"text-align: right;\">\n",
       "      <th></th>\n",
       "      <th>Team</th>\n",
       "      <th>Matches Won by Runs</th>\n",
       "    </tr>\n",
       "  </thead>\n",
       "  <tbody>\n",
       "    <tr>\n",
       "      <th>2</th>\n",
       "      <td>Bangladesh</td>\n",
       "      <td>8</td>\n",
       "    </tr>\n",
       "    <tr>\n",
       "      <th>3</th>\n",
       "      <td>England</td>\n",
       "      <td>8</td>\n",
       "    </tr>\n",
       "    <tr>\n",
       "      <th>0</th>\n",
       "      <td>Afghanistan</td>\n",
       "      <td>5</td>\n",
       "    </tr>\n",
       "    <tr>\n",
       "      <th>15</th>\n",
       "      <td>West Indies</td>\n",
       "      <td>5</td>\n",
       "    </tr>\n",
       "    <tr>\n",
       "      <th>16</th>\n",
       "      <td>Zimbabwe</td>\n",
       "      <td>5</td>\n",
       "    </tr>\n",
       "  </tbody>\n",
       "</table>\n",
       "</div>"
      ],
      "text/plain": [
       "           Team Matches Won by Runs\n",
       "2    Bangladesh                   8\n",
       "3       England                   8\n",
       "0   Afghanistan                   5\n",
       "15  West Indies                   5\n",
       "16     Zimbabwe                   5"
      ]
     },
     "execution_count": 23,
     "metadata": {},
     "output_type": "execute_result"
    }
   ],
   "source": [
    "df3 = df3.sort_values(by = 'Matches Won by Runs',ascending=False)\n",
    "df3.head()"
   ]
  },
  {
   "cell_type": "code",
   "execution_count": 24,
   "metadata": {},
   "outputs": [
    {
     "data": {
      "image/png": "[encoded data removed]",
      "text/plain": [
       "<Figure size 720x432 with 1 Axes>"
      ]
     },
     "metadata": {
      "needs_background": "light"
     },
     "output_type": "display_data"
    }
   ],
   "source": [
    "plt.figure(figsize=(10,6))\n",
    "plt.xlabel('Teams')\n",
    "plt.ylabel('No of Matches Won by Runs')\n",
    "plt.bar(list(df3['Team'][0:3]) , list(df3['Matches Won by Runs'][0:3]) ,color=['Green','Cyan','Red'])\n",
    "plt.show()"
   ]
  },
  {
   "cell_type": "markdown",
   "metadata": {},
   "source": [
    "Bangladesh , England and Zimbabwe have won most of the matches by runs(i.e When they batted first)"
   ]
  },
  {
   "cell_type": "markdown",
   "metadata": {},
   "source": [
    "# Month in which most ODIs were played"
   ]
  },
  {
   "cell_type": "code",
   "execution_count": 25,
   "metadata": {},
   "outputs": [
    {
     "data": {
      "text/html": [
       "<div>\n",
       "<style scoped>\n",
       "    .dataframe tbody tr th:only-of-type {\n",
       "        vertical-align: middle;\n",
       "    }\n",
       "\n",
       "    .dataframe tbody tr th {\n",
       "        vertical-align: top;\n",
       "    }\n",
       "\n",
       "    .dataframe thead th {\n",
       "        text-align: right;\n",
       "    }\n",
       "</style>\n",
       "<table border=\"1\" class=\"dataframe\">\n",
       "  <thead>\n",
       "    <tr style=\"text-align: right;\">\n",
       "      <th></th>\n",
       "      <th>Team 1</th>\n",
       "      <th>Team 2</th>\n",
       "      <th>Winner</th>\n",
       "      <th>Margin</th>\n",
       "      <th>Ground</th>\n",
       "      <th>Match Date</th>\n",
       "      <th>Scorecard</th>\n",
       "      <th>Loser</th>\n",
       "      <th>Win by Runs</th>\n",
       "      <th>Win by Wickets</th>\n",
       "    </tr>\n",
       "  </thead>\n",
       "  <tbody>\n",
       "    <tr>\n",
       "      <th>0</th>\n",
       "      <td>New Zealand</td>\n",
       "      <td>Pakistan</td>\n",
       "      <td>New Zealand</td>\n",
       "      <td>61 runs</td>\n",
       "      <td>Wellington</td>\n",
       "      <td>2018-01-06</td>\n",
       "      <td>ODI # 3946</td>\n",
       "      <td>Pakistan</td>\n",
       "      <td>61 runs</td>\n",
       "      <td>NaN</td>\n",
       "    </tr>\n",
       "    <tr>\n",
       "      <th>1</th>\n",
       "      <td>New Zealand</td>\n",
       "      <td>Pakistan</td>\n",
       "      <td>New Zealand</td>\n",
       "      <td>8 wickets</td>\n",
       "      <td>Nelson</td>\n",
       "      <td>2018-01-09</td>\n",
       "      <td>ODI # 3947</td>\n",
       "      <td>Pakistan</td>\n",
       "      <td>NaN</td>\n",
       "      <td>8 wickets</td>\n",
       "    </tr>\n",
       "    <tr>\n",
       "      <th>2</th>\n",
       "      <td>U.A.E.</td>\n",
       "      <td>Ireland</td>\n",
       "      <td>Ireland</td>\n",
       "      <td>4 wickets</td>\n",
       "      <td>ICCA Dubai</td>\n",
       "      <td>2018-01-11</td>\n",
       "      <td>ODI # 3948</td>\n",
       "      <td>U.A.E.</td>\n",
       "      <td>NaN</td>\n",
       "      <td>4 wickets</td>\n",
       "    </tr>\n",
       "    <tr>\n",
       "      <th>3</th>\n",
       "      <td>New Zealand</td>\n",
       "      <td>Pakistan</td>\n",
       "      <td>New Zealand</td>\n",
       "      <td>183 runs</td>\n",
       "      <td>Dunedin</td>\n",
       "      <td>2018-01-13</td>\n",
       "      <td>ODI # 3949</td>\n",
       "      <td>Pakistan</td>\n",
       "      <td>183 runs</td>\n",
       "      <td>NaN</td>\n",
       "    </tr>\n",
       "    <tr>\n",
       "      <th>4</th>\n",
       "      <td>U.A.E.</td>\n",
       "      <td>Ireland</td>\n",
       "      <td>Ireland</td>\n",
       "      <td>67 runs</td>\n",
       "      <td>ICCA Dubai</td>\n",
       "      <td>2018-01-13</td>\n",
       "      <td>ODI # 3950</td>\n",
       "      <td>U.A.E.</td>\n",
       "      <td>67 runs</td>\n",
       "      <td>NaN</td>\n",
       "    </tr>\n",
       "  </tbody>\n",
       "</table>\n",
       "</div>"
      ],
      "text/plain": [
       "        Team 1    Team 2       Winner     Margin      Ground Match Date  \\\n",
       "0  New Zealand  Pakistan  New Zealand    61 runs  Wellington 2018-01-06   \n",
       "1  New Zealand  Pakistan  New Zealand  8 wickets      Nelson 2018-01-09   \n",
       "2       U.A.E.   Ireland      Ireland  4 wickets  ICCA Dubai 2018-01-11   \n",
       "3  New Zealand  Pakistan  New Zealand   183 runs     Dunedin 2018-01-13   \n",
       "4       U.A.E.   Ireland      Ireland    67 runs  ICCA Dubai 2018-01-13   \n",
       "\n",
       "    Scorecard     Loser Win by Runs Win by Wickets  \n",
       "0  ODI # 3946  Pakistan     61 runs            NaN  \n",
       "1  ODI # 3947  Pakistan         NaN      8 wickets  \n",
       "2  ODI # 3948    U.A.E.         NaN      4 wickets  \n",
       "3  ODI # 3949  Pakistan    183 runs            NaN  \n",
       "4  ODI # 3950    U.A.E.     67 runs            NaN  "
      ]
     },
     "execution_count": 25,
     "metadata": {},
     "output_type": "execute_result"
    }
   ],
   "source": [
    "df.head()"
   ]
  },
  {
   "cell_type": "code",
   "execution_count": 26,
   "metadata": {},
   "outputs": [],
   "source": [
    "df['Month'] = df['Match Date'].astype(str).str.split('-').str[1]"
   ]
  },
  {
   "cell_type": "code",
   "execution_count": 27,
   "metadata": {},
   "outputs": [
    {
     "data": {
      "text/html": [
       "<div>\n",
       "<style scoped>\n",
       "    .dataframe tbody tr th:only-of-type {\n",
       "        vertical-align: middle;\n",
       "    }\n",
       "\n",
       "    .dataframe tbody tr th {\n",
       "        vertical-align: top;\n",
       "    }\n",
       "\n",
       "    .dataframe thead th {\n",
       "        text-align: right;\n",
       "    }\n",
       "</style>\n",
       "<table border=\"1\" class=\"dataframe\">\n",
       "  <thead>\n",
       "    <tr style=\"text-align: right;\">\n",
       "      <th></th>\n",
       "      <th>Team 1</th>\n",
       "      <th>Team 2</th>\n",
       "      <th>Winner</th>\n",
       "      <th>Margin</th>\n",
       "      <th>Ground</th>\n",
       "      <th>Match Date</th>\n",
       "      <th>Scorecard</th>\n",
       "      <th>Loser</th>\n",
       "      <th>Win by Runs</th>\n",
       "      <th>Win by Wickets</th>\n",
       "      <th>Month</th>\n",
       "    </tr>\n",
       "  </thead>\n",
       "  <tbody>\n",
       "    <tr>\n",
       "      <th>0</th>\n",
       "      <td>New Zealand</td>\n",
       "      <td>Pakistan</td>\n",
       "      <td>New Zealand</td>\n",
       "      <td>61 runs</td>\n",
       "      <td>Wellington</td>\n",
       "      <td>2018-01-06</td>\n",
       "      <td>ODI # 3946</td>\n",
       "      <td>Pakistan</td>\n",
       "      <td>61 runs</td>\n",
       "      <td>NaN</td>\n",
       "      <td>01</td>\n",
       "    </tr>\n",
       "    <tr>\n",
       "      <th>1</th>\n",
       "      <td>New Zealand</td>\n",
       "      <td>Pakistan</td>\n",
       "      <td>New Zealand</td>\n",
       "      <td>8 wickets</td>\n",
       "      <td>Nelson</td>\n",
       "      <td>2018-01-09</td>\n",
       "      <td>ODI # 3947</td>\n",
       "      <td>Pakistan</td>\n",
       "      <td>NaN</td>\n",
       "      <td>8 wickets</td>\n",
       "      <td>01</td>\n",
       "    </tr>\n",
       "    <tr>\n",
       "      <th>2</th>\n",
       "      <td>U.A.E.</td>\n",
       "      <td>Ireland</td>\n",
       "      <td>Ireland</td>\n",
       "      <td>4 wickets</td>\n",
       "      <td>ICCA Dubai</td>\n",
       "      <td>2018-01-11</td>\n",
       "      <td>ODI # 3948</td>\n",
       "      <td>U.A.E.</td>\n",
       "      <td>NaN</td>\n",
       "      <td>4 wickets</td>\n",
       "      <td>01</td>\n",
       "    </tr>\n",
       "    <tr>\n",
       "      <th>3</th>\n",
       "      <td>New Zealand</td>\n",
       "      <td>Pakistan</td>\n",
       "      <td>New Zealand</td>\n",
       "      <td>183 runs</td>\n",
       "      <td>Dunedin</td>\n",
       "      <td>2018-01-13</td>\n",
       "      <td>ODI # 3949</td>\n",
       "      <td>Pakistan</td>\n",
       "      <td>183 runs</td>\n",
       "      <td>NaN</td>\n",
       "      <td>01</td>\n",
       "    </tr>\n",
       "    <tr>\n",
       "      <th>4</th>\n",
       "      <td>U.A.E.</td>\n",
       "      <td>Ireland</td>\n",
       "      <td>Ireland</td>\n",
       "      <td>67 runs</td>\n",
       "      <td>ICCA Dubai</td>\n",
       "      <td>2018-01-13</td>\n",
       "      <td>ODI # 3950</td>\n",
       "      <td>U.A.E.</td>\n",
       "      <td>67 runs</td>\n",
       "      <td>NaN</td>\n",
       "      <td>01</td>\n",
       "    </tr>\n",
       "  </tbody>\n",
       "</table>\n",
       "</div>"
      ],
      "text/plain": [
       "        Team 1    Team 2       Winner     Margin      Ground Match Date  \\\n",
       "0  New Zealand  Pakistan  New Zealand    61 runs  Wellington 2018-01-06   \n",
       "1  New Zealand  Pakistan  New Zealand  8 wickets      Nelson 2018-01-09   \n",
       "2       U.A.E.   Ireland      Ireland  4 wickets  ICCA Dubai 2018-01-11   \n",
       "3  New Zealand  Pakistan  New Zealand   183 runs     Dunedin 2018-01-13   \n",
       "4       U.A.E.   Ireland      Ireland    67 runs  ICCA Dubai 2018-01-13   \n",
       "\n",
       "    Scorecard     Loser Win by Runs Win by Wickets Month  \n",
       "0  ODI # 3946  Pakistan     61 runs            NaN    01  \n",
       "1  ODI # 3947  Pakistan         NaN      8 wickets    01  \n",
       "2  ODI # 3948    U.A.E.         NaN      4 wickets    01  \n",
       "3  ODI # 3949  Pakistan    183 runs            NaN    01  \n",
       "4  ODI # 3950    U.A.E.     67 runs            NaN    01  "
      ]
     },
     "execution_count": 27,
     "metadata": {},
     "output_type": "execute_result"
    }
   ],
   "source": [
    "df.head()"
   ]
  },
  {
   "cell_type": "code",
   "execution_count": 28,
   "metadata": {},
   "outputs": [
    {
     "data": {
      "text/plain": [
       "03    26\n",
       "01    23\n",
       "09    14\n",
       "10    14\n",
       "02    13\n",
       "07    12\n",
       "08    10\n",
       "11     7\n",
       "06     6\n",
       "12     3\n",
       "Name: Month, dtype: int64"
      ]
     },
     "execution_count": 28,
     "metadata": {},
     "output_type": "execute_result"
    }
   ],
   "source": [
    "df['Month'].value_counts()"
   ]
  },
  {
   "cell_type": "markdown",
   "metadata": {},
   "source": [
    "In Match , most(26) ODI matches were played in 2018"
   ]
  },
  {
   "cell_type": "code",
   "execution_count": 29,
   "metadata": {},
   "outputs": [],
   "source": [
    "import datetime"
   ]
  },
  {
   "cell_type": "code",
   "execution_count": 30,
   "metadata": {},
   "outputs": [],
   "source": [
    "month_names = []\n",
    "by_month_games =df['Month'].value_counts()\n",
    "for month_number in by_month_games.index:\n",
    "    datetime_object = datetime.datetime.strptime(month_number, \"%m\")\n",
    "    month_name = datetime_object.strftime(\"%b\")\n",
    "    month_names.append(month_name)\n",
    "\n",
    "by_month_games.index = month_names"
   ]
  },
  {
   "cell_type": "code",
   "execution_count": 31,
   "metadata": {},
   "outputs": [
    {
     "data": {
      "text/plain": [
       "Index(['Mar', 'Jan', 'Sep', 'Oct', 'Feb', 'Jul', 'Aug', 'Nov', 'Jun', 'Dec'], dtype='object')"
      ]
     },
     "execution_count": 31,
     "metadata": {},
     "output_type": "execute_result"
    }
   ],
   "source": [
    "by_month_games.keys()"
   ]
  },
  {
   "cell_type": "code",
   "execution_count": 32,
   "metadata": {},
   "outputs": [],
   "source": [
    "colors = ['#107000' , '#FF0000' , '#808000','#800000' ,'#00FFFF' , '#000080' , '#800080' , '#33FF57' , '#FFBD33' , '#FF00FF' ,'#FF5500' , '#F55500']"
   ]
  },
  {
   "cell_type": "code",
   "execution_count": 33,
   "metadata": {},
   "outputs": [
    {
     "data": {
      "image/png": "[encoded data removed]",
      "text/plain": [
       "<Figure size 720x432 with 1 Axes>"
      ]
     },
     "metadata": {
      "needs_background": "light"
     },
     "output_type": "display_data"
    }
   ],
   "source": [
    "plt.figure(figsize=(10,6))\n",
    "plt.xlabel('Month')\n",
    "plt.ylabel('No of Matches Played')\n",
    "plt.bar(by_month_games.keys() , by_month_games.values , color = colors)\n",
    "plt.show()"
   ]
  },
  {
   "cell_type": "markdown",
   "metadata": {},
   "source": [
    "# On which ground most Matches were played"
   ]
  },
  {
   "cell_type": "code",
   "execution_count": 34,
   "metadata": {},
   "outputs": [
    {
     "data": {
      "text/plain": [
       "Harare                16\n",
       "Bulawayo              12\n",
       "Dhaka                 10\n",
       "Dubai (DSC)            9\n",
       "Abu Dhabi              7\n",
       "ICCA Dubai             6\n",
       "Sharjah                5\n",
       "Pallekele              4\n",
       "Dambulla               4\n",
       "Belfast                3\n",
       "Wellington             3\n",
       "Hamilton               2\n",
       "Colombo (RPS)          2\n",
       "Providence             2\n",
       "Perth                  2\n",
       "Amstelveen             2\n",
       "Centurion              2\n",
       "Adelaide               2\n",
       "Dunedin                2\n",
       "Nottingham             2\n",
       "Chattogram             2\n",
       "Manchester             1\n",
       "Basseterre             1\n",
       "Leeds                  1\n",
       "Bloemfontein           1\n",
       "Johannesburg           1\n",
       "Mount Maunganui        1\n",
       "Thiruvananthapuram     1\n",
       "Paarl                  1\n",
       "Port Elizabeth         1\n",
       "Kuala Lumpur           1\n",
       "Brisbane               1\n",
       "Hobart                 1\n",
       "Visakhapatnam          1\n",
       "Sydney                 1\n",
       "Kimberley              1\n",
       "Nelson                 1\n",
       "Cardiff                1\n",
       "Durban                 1\n",
       "Pune                   1\n",
       "Cape Town              1\n",
       "Christchurch           1\n",
       "Lord's                 1\n",
       "Melbourne              1\n",
       "The Oval               1\n",
       "Sylhet                 1\n",
       "Guwahati               1\n",
       "Mumbai (BS)            1\n",
       "Edinburgh              1\n",
       "Chester-le-Street      1\n",
       "Name: Ground, dtype: int64"
      ]
     },
     "execution_count": 34,
     "metadata": {},
     "output_type": "execute_result"
    }
   ],
   "source": [
    "df.Ground.value_counts()"
   ]
  },
  {
   "cell_type": "markdown",
   "metadata": {},
   "source": [
    "In Harare most matches were played"
   ]
  },
  {
   "cell_type": "code",
   "execution_count": 35,
   "metadata": {},
   "outputs": [
    {
     "data": {
      "image/png": "[encoded data removed]",
      "text/plain": [
       "<Figure size 720x432 with 1 Axes>"
      ]
     },
     "metadata": {
      "needs_background": "light"
     },
     "output_type": "display_data"
    }
   ],
   "source": [
    "plt.figure(figsize=(10,6))\n",
    "plt.xlabel('Ground')\n",
    "plt.ylabel('No of Matches in 2018')\n",
    "plt.bar(list(df.Ground.value_counts()[0:3].keys()) , list(df.Ground.value_counts()[0:3].values) , color = ['Orange','Pink','Blue'])\n",
    "plt.show()"
   ]
  },
  {
   "cell_type": "markdown",
   "metadata": {},
   "source": [
    "# Did Pakistan win mostly by chasing or playing first ?"
   ]
  },
  {
   "cell_type": "code",
   "execution_count": 36,
   "metadata": {},
   "outputs": [],
   "source": [
    "#filtering only Pakistan Matches\n",
    "df4 = df[(df['Team 1'] == \"Pakistan\") | (df['Team 2'] == \"Pakistan\")]"
   ]
  },
  {
   "cell_type": "code",
   "execution_count": 37,
   "metadata": {},
   "outputs": [
    {
     "data": {
      "text/html": [
       "<div>\n",
       "<style scoped>\n",
       "    .dataframe tbody tr th:only-of-type {\n",
       "        vertical-align: middle;\n",
       "    }\n",
       "\n",
       "    .dataframe tbody tr th {\n",
       "        vertical-align: top;\n",
       "    }\n",
       "\n",
       "    .dataframe thead th {\n",
       "        text-align: right;\n",
       "    }\n",
       "</style>\n",
       "<table border=\"1\" class=\"dataframe\">\n",
       "  <thead>\n",
       "    <tr style=\"text-align: right;\">\n",
       "      <th></th>\n",
       "      <th>Team 1</th>\n",
       "      <th>Team 2</th>\n",
       "      <th>Winner</th>\n",
       "      <th>Margin</th>\n",
       "      <th>Ground</th>\n",
       "      <th>Match Date</th>\n",
       "      <th>Scorecard</th>\n",
       "      <th>Loser</th>\n",
       "      <th>Win by Runs</th>\n",
       "      <th>Win by Wickets</th>\n",
       "      <th>Month</th>\n",
       "    </tr>\n",
       "  </thead>\n",
       "  <tbody>\n",
       "    <tr>\n",
       "      <th>0</th>\n",
       "      <td>New Zealand</td>\n",
       "      <td>Pakistan</td>\n",
       "      <td>New Zealand</td>\n",
       "      <td>61 runs</td>\n",
       "      <td>Wellington</td>\n",
       "      <td>2018-01-06</td>\n",
       "      <td>ODI # 3946</td>\n",
       "      <td>Pakistan</td>\n",
       "      <td>61 runs</td>\n",
       "      <td>NaN</td>\n",
       "      <td>01</td>\n",
       "    </tr>\n",
       "    <tr>\n",
       "      <th>1</th>\n",
       "      <td>New Zealand</td>\n",
       "      <td>Pakistan</td>\n",
       "      <td>New Zealand</td>\n",
       "      <td>8 wickets</td>\n",
       "      <td>Nelson</td>\n",
       "      <td>2018-01-09</td>\n",
       "      <td>ODI # 3947</td>\n",
       "      <td>Pakistan</td>\n",
       "      <td>NaN</td>\n",
       "      <td>8 wickets</td>\n",
       "      <td>01</td>\n",
       "    </tr>\n",
       "    <tr>\n",
       "      <th>3</th>\n",
       "      <td>New Zealand</td>\n",
       "      <td>Pakistan</td>\n",
       "      <td>New Zealand</td>\n",
       "      <td>183 runs</td>\n",
       "      <td>Dunedin</td>\n",
       "      <td>2018-01-13</td>\n",
       "      <td>ODI # 3949</td>\n",
       "      <td>Pakistan</td>\n",
       "      <td>183 runs</td>\n",
       "      <td>NaN</td>\n",
       "      <td>01</td>\n",
       "    </tr>\n",
       "    <tr>\n",
       "      <th>7</th>\n",
       "      <td>New Zealand</td>\n",
       "      <td>Pakistan</td>\n",
       "      <td>New Zealand</td>\n",
       "      <td>5 wickets</td>\n",
       "      <td>Hamilton</td>\n",
       "      <td>2018-01-16</td>\n",
       "      <td>ODI # 3953</td>\n",
       "      <td>Pakistan</td>\n",
       "      <td>NaN</td>\n",
       "      <td>5 wickets</td>\n",
       "      <td>01</td>\n",
       "    </tr>\n",
       "    <tr>\n",
       "      <th>11</th>\n",
       "      <td>New Zealand</td>\n",
       "      <td>Pakistan</td>\n",
       "      <td>New Zealand</td>\n",
       "      <td>15 runs</td>\n",
       "      <td>Wellington</td>\n",
       "      <td>2018-01-19</td>\n",
       "      <td>ODI # 3957</td>\n",
       "      <td>Pakistan</td>\n",
       "      <td>15 runs</td>\n",
       "      <td>NaN</td>\n",
       "      <td>01</td>\n",
       "    </tr>\n",
       "    <tr>\n",
       "      <th>69</th>\n",
       "      <td>Zimbabwe</td>\n",
       "      <td>Pakistan</td>\n",
       "      <td>Pakistan</td>\n",
       "      <td>201 runs</td>\n",
       "      <td>Bulawayo</td>\n",
       "      <td>2018-07-13</td>\n",
       "      <td>ODI # 4015</td>\n",
       "      <td>Zimbabwe</td>\n",
       "      <td>201 runs</td>\n",
       "      <td>NaN</td>\n",
       "      <td>07</td>\n",
       "    </tr>\n",
       "    <tr>\n",
       "      <th>71</th>\n",
       "      <td>Zimbabwe</td>\n",
       "      <td>Pakistan</td>\n",
       "      <td>Pakistan</td>\n",
       "      <td>9 wickets</td>\n",
       "      <td>Bulawayo</td>\n",
       "      <td>2018-07-16</td>\n",
       "      <td>ODI # 4017</td>\n",
       "      <td>Zimbabwe</td>\n",
       "      <td>NaN</td>\n",
       "      <td>9 wickets</td>\n",
       "      <td>07</td>\n",
       "    </tr>\n",
       "    <tr>\n",
       "      <th>73</th>\n",
       "      <td>Zimbabwe</td>\n",
       "      <td>Pakistan</td>\n",
       "      <td>Pakistan</td>\n",
       "      <td>9 wickets</td>\n",
       "      <td>Bulawayo</td>\n",
       "      <td>2018-07-18</td>\n",
       "      <td>ODI # 4019</td>\n",
       "      <td>Zimbabwe</td>\n",
       "      <td>NaN</td>\n",
       "      <td>9 wickets</td>\n",
       "      <td>07</td>\n",
       "    </tr>\n",
       "    <tr>\n",
       "      <th>74</th>\n",
       "      <td>Zimbabwe</td>\n",
       "      <td>Pakistan</td>\n",
       "      <td>Pakistan</td>\n",
       "      <td>244 runs</td>\n",
       "      <td>Bulawayo</td>\n",
       "      <td>2018-07-20</td>\n",
       "      <td>ODI # 4020</td>\n",
       "      <td>Zimbabwe</td>\n",
       "      <td>244 runs</td>\n",
       "      <td>NaN</td>\n",
       "      <td>07</td>\n",
       "    </tr>\n",
       "    <tr>\n",
       "      <th>75</th>\n",
       "      <td>Zimbabwe</td>\n",
       "      <td>Pakistan</td>\n",
       "      <td>Pakistan</td>\n",
       "      <td>131 runs</td>\n",
       "      <td>Bulawayo</td>\n",
       "      <td>2018-07-22</td>\n",
       "      <td>ODI # 4021</td>\n",
       "      <td>Zimbabwe</td>\n",
       "      <td>131 runs</td>\n",
       "      <td>NaN</td>\n",
       "      <td>07</td>\n",
       "    </tr>\n",
       "    <tr>\n",
       "      <th>91</th>\n",
       "      <td>Hong Kong</td>\n",
       "      <td>Pakistan</td>\n",
       "      <td>Pakistan</td>\n",
       "      <td>8 wickets</td>\n",
       "      <td>Dubai (DSC)</td>\n",
       "      <td>2018-09-16</td>\n",
       "      <td>ODI # 4037</td>\n",
       "      <td>Hong Kong</td>\n",
       "      <td>NaN</td>\n",
       "      <td>8 wickets</td>\n",
       "      <td>09</td>\n",
       "    </tr>\n",
       "    <tr>\n",
       "      <th>94</th>\n",
       "      <td>India</td>\n",
       "      <td>Pakistan</td>\n",
       "      <td>India</td>\n",
       "      <td>8 wickets</td>\n",
       "      <td>Dubai (DSC)</td>\n",
       "      <td>2018-09-19</td>\n",
       "      <td>ODI # 4040</td>\n",
       "      <td>Pakistan</td>\n",
       "      <td>NaN</td>\n",
       "      <td>8 wickets</td>\n",
       "      <td>09</td>\n",
       "    </tr>\n",
       "    <tr>\n",
       "      <th>97</th>\n",
       "      <td>Afghanistan</td>\n",
       "      <td>Pakistan</td>\n",
       "      <td>Pakistan</td>\n",
       "      <td>3 wickets</td>\n",
       "      <td>Abu Dhabi</td>\n",
       "      <td>2018-09-21</td>\n",
       "      <td>ODI # 4043</td>\n",
       "      <td>Afghanistan</td>\n",
       "      <td>NaN</td>\n",
       "      <td>3 wickets</td>\n",
       "      <td>09</td>\n",
       "    </tr>\n",
       "    <tr>\n",
       "      <th>98</th>\n",
       "      <td>India</td>\n",
       "      <td>Pakistan</td>\n",
       "      <td>India</td>\n",
       "      <td>9 wickets</td>\n",
       "      <td>Dubai (DSC)</td>\n",
       "      <td>2018-09-23</td>\n",
       "      <td>ODI # 4044</td>\n",
       "      <td>Pakistan</td>\n",
       "      <td>NaN</td>\n",
       "      <td>9 wickets</td>\n",
       "      <td>09</td>\n",
       "    </tr>\n",
       "    <tr>\n",
       "      <th>101</th>\n",
       "      <td>Bangladesh</td>\n",
       "      <td>Pakistan</td>\n",
       "      <td>Bangladesh</td>\n",
       "      <td>37 runs</td>\n",
       "      <td>Abu Dhabi</td>\n",
       "      <td>2018-09-26</td>\n",
       "      <td>ODI # 4047</td>\n",
       "      <td>Pakistan</td>\n",
       "      <td>37 runs</td>\n",
       "      <td>NaN</td>\n",
       "      <td>09</td>\n",
       "    </tr>\n",
       "    <tr>\n",
       "      <th>120</th>\n",
       "      <td>New Zealand</td>\n",
       "      <td>Pakistan</td>\n",
       "      <td>New Zealand</td>\n",
       "      <td>47 runs</td>\n",
       "      <td>Abu Dhabi</td>\n",
       "      <td>2018-11-07</td>\n",
       "      <td>ODI # 4066</td>\n",
       "      <td>Pakistan</td>\n",
       "      <td>47 runs</td>\n",
       "      <td>NaN</td>\n",
       "      <td>11</td>\n",
       "    </tr>\n",
       "    <tr>\n",
       "      <th>122</th>\n",
       "      <td>New Zealand</td>\n",
       "      <td>Pakistan</td>\n",
       "      <td>Pakistan</td>\n",
       "      <td>6 wickets</td>\n",
       "      <td>Abu Dhabi</td>\n",
       "      <td>2018-11-09</td>\n",
       "      <td>ODI # 4068</td>\n",
       "      <td>New Zealand</td>\n",
       "      <td>NaN</td>\n",
       "      <td>6 wickets</td>\n",
       "      <td>11</td>\n",
       "    </tr>\n",
       "    <tr>\n",
       "      <th>124</th>\n",
       "      <td>New Zealand</td>\n",
       "      <td>Pakistan</td>\n",
       "      <td>no result</td>\n",
       "      <td>NaN</td>\n",
       "      <td>Dubai (DSC)</td>\n",
       "      <td>2018-11-11</td>\n",
       "      <td>ODI # 4070</td>\n",
       "      <td>New Zealand</td>\n",
       "      <td>NaN</td>\n",
       "      <td>NaN</td>\n",
       "      <td>11</td>\n",
       "    </tr>\n",
       "  </tbody>\n",
       "</table>\n",
       "</div>"
      ],
      "text/plain": [
       "          Team 1    Team 2       Winner     Margin       Ground Match Date  \\\n",
       "0    New Zealand  Pakistan  New Zealand    61 runs   Wellington 2018-01-06   \n",
       "1    New Zealand  Pakistan  New Zealand  8 wickets       Nelson 2018-01-09   \n",
       "3    New Zealand  Pakistan  New Zealand   183 runs      Dunedin 2018-01-13   \n",
       "7    New Zealand  Pakistan  New Zealand  5 wickets     Hamilton 2018-01-16   \n",
       "11   New Zealand  Pakistan  New Zealand    15 runs   Wellington 2018-01-19   \n",
       "69      Zimbabwe  Pakistan     Pakistan   201 runs     Bulawayo 2018-07-13   \n",
       "71      Zimbabwe  Pakistan     Pakistan  9 wickets     Bulawayo 2018-07-16   \n",
       "73      Zimbabwe  Pakistan     Pakistan  9 wickets     Bulawayo 2018-07-18   \n",
       "74      Zimbabwe  Pakistan     Pakistan   244 runs     Bulawayo 2018-07-20   \n",
       "75      Zimbabwe  Pakistan     Pakistan   131 runs     Bulawayo 2018-07-22   \n",
       "91     Hong Kong  Pakistan     Pakistan  8 wickets  Dubai (DSC) 2018-09-16   \n",
       "94         India  Pakistan        India  8 wickets  Dubai (DSC) 2018-09-19   \n",
       "97   Afghanistan  Pakistan     Pakistan  3 wickets    Abu Dhabi 2018-09-21   \n",
       "98         India  Pakistan        India  9 wickets  Dubai (DSC) 2018-09-23   \n",
       "101   Bangladesh  Pakistan   Bangladesh    37 runs    Abu Dhabi 2018-09-26   \n",
       "120  New Zealand  Pakistan  New Zealand    47 runs    Abu Dhabi 2018-11-07   \n",
       "122  New Zealand  Pakistan     Pakistan  6 wickets    Abu Dhabi 2018-11-09   \n",
       "124  New Zealand  Pakistan    no result        NaN  Dubai (DSC) 2018-11-11   \n",
       "\n",
       "      Scorecard        Loser Win by Runs Win by Wickets Month  \n",
       "0    ODI # 3946     Pakistan     61 runs            NaN    01  \n",
       "1    ODI # 3947     Pakistan         NaN      8 wickets    01  \n",
       "3    ODI # 3949     Pakistan    183 runs            NaN    01  \n",
       "7    ODI # 3953     Pakistan         NaN      5 wickets    01  \n",
       "11   ODI # 3957     Pakistan     15 runs            NaN    01  \n",
       "69   ODI # 4015     Zimbabwe    201 runs            NaN    07  \n",
       "71   ODI # 4017     Zimbabwe         NaN      9 wickets    07  \n",
       "73   ODI # 4019     Zimbabwe         NaN      9 wickets    07  \n",
       "74   ODI # 4020     Zimbabwe    244 runs            NaN    07  \n",
       "75   ODI # 4021     Zimbabwe    131 runs            NaN    07  \n",
       "91   ODI # 4037    Hong Kong         NaN      8 wickets    09  \n",
       "94   ODI # 4040     Pakistan         NaN      8 wickets    09  \n",
       "97   ODI # 4043  Afghanistan         NaN      3 wickets    09  \n",
       "98   ODI # 4044     Pakistan         NaN      9 wickets    09  \n",
       "101  ODI # 4047     Pakistan     37 runs            NaN    09  \n",
       "120  ODI # 4066     Pakistan     47 runs            NaN    11  \n",
       "122  ODI # 4068  New Zealand         NaN      6 wickets    11  \n",
       "124  ODI # 4070  New Zealand         NaN            NaN    11  "
      ]
     },
     "execution_count": 37,
     "metadata": {},
     "output_type": "execute_result"
    }
   ],
   "source": [
    "df4"
   ]
  },
  {
   "cell_type": "code",
   "execution_count": 38,
   "metadata": {},
   "outputs": [],
   "source": [
    "df4 = df4.reset_index(drop=True)"
   ]
  },
  {
   "cell_type": "code",
   "execution_count": 39,
   "metadata": {},
   "outputs": [],
   "source": [
    "pakistan_first_batting_wins = 0\n",
    "pakistan_chasing_wins = 0\n",
    "for winner , win_by_runs in zip(df['Winner'] , df['Win by Runs']):\n",
    "    if(winner == 'Pakistan' and win_by_runs is not np.nan):\n",
    "        pakistan_first_batting_wins +=1\n",
    "        \n",
    "for winner , win_by_wickets in zip(df['Winner'] , df['Win by Wickets']):\n",
    "    if(winner == 'Pakistan' and win_by_wickets is not np.nan):\n",
    "        pakistan_chasing_wins +=1\n",
    "\n"
   ]
  },
  {
   "cell_type": "code",
   "execution_count": 40,
   "metadata": {},
   "outputs": [
    {
     "data": {
      "text/plain": [
       "(3, 5)"
      ]
     },
     "execution_count": 40,
     "metadata": {},
     "output_type": "execute_result"
    }
   ],
   "source": [
    "pakistan_first_batting_wins ,pakistan_chasing_wins"
   ]
  },
  {
   "cell_type": "code",
   "execution_count": 41,
   "metadata": {},
   "outputs": [],
   "source": [
    "winning_type = ['Batting First' , 'Chasing']\n",
    "winning_counts = []\n",
    "winning_counts.append(pakistan_first_batting_wins)\n",
    "winning_counts.append(pakistan_chasing_wins)"
   ]
  },
  {
   "cell_type": "code",
   "execution_count": 42,
   "metadata": {},
   "outputs": [
    {
     "data": {
      "image/png": "[encoded data removed]",
      "text/plain": [
       "<Figure size 720x432 with 1 Axes>"
      ]
     },
     "metadata": {},
     "output_type": "display_data"
    }
   ],
   "source": [
    "plt.figure(figsize=(10,6))\n",
    "plt.pie(winning_counts , labels=winning_type ,autopct='%0.1f%%')\n",
    "plt.axis('equal')\n",
    "plt.show()"
   ]
  },
  {
   "cell_type": "markdown",
   "metadata": {},
   "source": [
    "It shows Pakistan won most of the matches while chasing the target"
   ]
  },
  {
   "cell_type": "markdown",
   "metadata": {},
   "source": [
    "# Team which lost most Matches"
   ]
  },
  {
   "cell_type": "code",
   "execution_count": 43,
   "metadata": {},
   "outputs": [
    {
     "data": {
      "text/html": [
       "<div>\n",
       "<style scoped>\n",
       "    .dataframe tbody tr th:only-of-type {\n",
       "        vertical-align: middle;\n",
       "    }\n",
       "\n",
       "    .dataframe tbody tr th {\n",
       "        vertical-align: top;\n",
       "    }\n",
       "\n",
       "    .dataframe thead th {\n",
       "        text-align: right;\n",
       "    }\n",
       "</style>\n",
       "<table border=\"1\" class=\"dataframe\">\n",
       "  <thead>\n",
       "    <tr style=\"text-align: right;\">\n",
       "      <th></th>\n",
       "      <th>Team 1</th>\n",
       "      <th>Team 2</th>\n",
       "      <th>Winner</th>\n",
       "      <th>Margin</th>\n",
       "      <th>Ground</th>\n",
       "      <th>Match Date</th>\n",
       "      <th>Scorecard</th>\n",
       "      <th>Loser</th>\n",
       "      <th>Win by Runs</th>\n",
       "      <th>Win by Wickets</th>\n",
       "      <th>Month</th>\n",
       "    </tr>\n",
       "  </thead>\n",
       "  <tbody>\n",
       "    <tr>\n",
       "      <th>0</th>\n",
       "      <td>New Zealand</td>\n",
       "      <td>Pakistan</td>\n",
       "      <td>New Zealand</td>\n",
       "      <td>61 runs</td>\n",
       "      <td>Wellington</td>\n",
       "      <td>2018-01-06</td>\n",
       "      <td>ODI # 3946</td>\n",
       "      <td>Pakistan</td>\n",
       "      <td>61 runs</td>\n",
       "      <td>NaN</td>\n",
       "      <td>01</td>\n",
       "    </tr>\n",
       "    <tr>\n",
       "      <th>1</th>\n",
       "      <td>New Zealand</td>\n",
       "      <td>Pakistan</td>\n",
       "      <td>New Zealand</td>\n",
       "      <td>8 wickets</td>\n",
       "      <td>Nelson</td>\n",
       "      <td>2018-01-09</td>\n",
       "      <td>ODI # 3947</td>\n",
       "      <td>Pakistan</td>\n",
       "      <td>NaN</td>\n",
       "      <td>8 wickets</td>\n",
       "      <td>01</td>\n",
       "    </tr>\n",
       "    <tr>\n",
       "      <th>2</th>\n",
       "      <td>U.A.E.</td>\n",
       "      <td>Ireland</td>\n",
       "      <td>Ireland</td>\n",
       "      <td>4 wickets</td>\n",
       "      <td>ICCA Dubai</td>\n",
       "      <td>2018-01-11</td>\n",
       "      <td>ODI # 3948</td>\n",
       "      <td>U.A.E.</td>\n",
       "      <td>NaN</td>\n",
       "      <td>4 wickets</td>\n",
       "      <td>01</td>\n",
       "    </tr>\n",
       "    <tr>\n",
       "      <th>3</th>\n",
       "      <td>New Zealand</td>\n",
       "      <td>Pakistan</td>\n",
       "      <td>New Zealand</td>\n",
       "      <td>183 runs</td>\n",
       "      <td>Dunedin</td>\n",
       "      <td>2018-01-13</td>\n",
       "      <td>ODI # 3949</td>\n",
       "      <td>Pakistan</td>\n",
       "      <td>183 runs</td>\n",
       "      <td>NaN</td>\n",
       "      <td>01</td>\n",
       "    </tr>\n",
       "    <tr>\n",
       "      <th>4</th>\n",
       "      <td>U.A.E.</td>\n",
       "      <td>Ireland</td>\n",
       "      <td>Ireland</td>\n",
       "      <td>67 runs</td>\n",
       "      <td>ICCA Dubai</td>\n",
       "      <td>2018-01-13</td>\n",
       "      <td>ODI # 3950</td>\n",
       "      <td>U.A.E.</td>\n",
       "      <td>67 runs</td>\n",
       "      <td>NaN</td>\n",
       "      <td>01</td>\n",
       "    </tr>\n",
       "  </tbody>\n",
       "</table>\n",
       "</div>"
      ],
      "text/plain": [
       "        Team 1    Team 2       Winner     Margin      Ground Match Date  \\\n",
       "0  New Zealand  Pakistan  New Zealand    61 runs  Wellington 2018-01-06   \n",
       "1  New Zealand  Pakistan  New Zealand  8 wickets      Nelson 2018-01-09   \n",
       "2       U.A.E.   Ireland      Ireland  4 wickets  ICCA Dubai 2018-01-11   \n",
       "3  New Zealand  Pakistan  New Zealand   183 runs     Dunedin 2018-01-13   \n",
       "4       U.A.E.   Ireland      Ireland    67 runs  ICCA Dubai 2018-01-13   \n",
       "\n",
       "    Scorecard     Loser Win by Runs Win by Wickets Month  \n",
       "0  ODI # 3946  Pakistan     61 runs            NaN    01  \n",
       "1  ODI # 3947  Pakistan         NaN      8 wickets    01  \n",
       "2  ODI # 3948    U.A.E.         NaN      4 wickets    01  \n",
       "3  ODI # 3949  Pakistan    183 runs            NaN    01  \n",
       "4  ODI # 3950    U.A.E.     67 runs            NaN    01  "
      ]
     },
     "execution_count": 43,
     "metadata": {},
     "output_type": "execute_result"
    }
   ],
   "source": [
    "df.head()"
   ]
  },
  {
   "cell_type": "code",
   "execution_count": 44,
   "metadata": {},
   "outputs": [
    {
     "data": {
      "text/plain": [
       "Zimbabwe        21\n",
       "Australia       11\n",
       "Sri Lanka       11\n",
       "West Indies      9\n",
       "Pakistan         9\n",
       "South Africa     8\n",
       "Afghanistan      8\n",
       "U.A.E.           7\n",
       "Bangladesh       7\n",
       "England          6\n",
       "Hong Kong        5\n",
       "New Zealand      5\n",
       "India            5\n",
       "Scotland         5\n",
       "Ireland          5\n",
       "P.N.G.           3\n",
       "Nepal            2\n",
       "Netherlands      1\n",
       "Name: Loser, dtype: int64"
      ]
     },
     "execution_count": 44,
     "metadata": {},
     "output_type": "execute_result"
    }
   ],
   "source": [
    "df.Loser.value_counts()"
   ]
  },
  {
   "cell_type": "code",
   "execution_count": 45,
   "metadata": {},
   "outputs": [
    {
     "data": {
      "image/png": "[encoded data removed]",
      "text/plain": [
       "<Figure size 720x432 with 1 Axes>"
      ]
     },
     "metadata": {
      "needs_background": "light"
     },
     "output_type": "display_data"
    }
   ],
   "source": [
    "plt.figure(figsize=(10,6))\n",
    "plt.xlabel('Team')\n",
    "plt.ylabel('No of Matches Lostin 2018')\n",
    "plt.bar(list(df.Loser.value_counts()[0:3].keys()) , list(df.Loser.value_counts()[0:3].values) , color = ['Red' , 'Yellow', 'Blue'])\n",
    "plt.show()"
   ]
  },
  {
   "cell_type": "code",
   "execution_count": 46,
   "metadata": {},
   "outputs": [
    {
     "data": {
      "image/png": "[encoded data removed]",
      "text/plain": [
       "<Figure size 432x288 with 1 Axes>"
      ]
     },
     "metadata": {},
     "output_type": "display_data"
    }
   ],
   "source": [
    "plt.axis('equal')\n",
    "plt.pie(df.Loser.value_counts().values , labels=df.Loser.value_counts().keys() ,radius=2.75 ,autopct='%0.01f%%')\n",
    "plt.show()"
   ]
  },
  {
   "cell_type": "markdown",
   "metadata": {},
   "source": [
    "Zimbabwe lost the most ODI matches in 2018, lost(16% of the total matches)"
   ]
  },
  {
   "cell_type": "markdown",
   "metadata": {},
   "source": [
    "# Did the above team lost matches by chasing or playing first ?"
   ]
  },
  {
   "cell_type": "code",
   "execution_count": 47,
   "metadata": {},
   "outputs": [
    {
     "data": {
      "text/plain": [
       "(0, 5)"
      ]
     },
     "execution_count": 47,
     "metadata": {},
     "output_type": "execute_result"
    }
   ],
   "source": [
    "first_batting_loses = 0\n",
    "chasing_loses = 0\n",
    "for loser , lose_by_runs in zip(df['Loser'] , df['Win by Runs']):\n",
    "    if(loser == 'Zimbabwe' and win_by_runs is not np.nan):\n",
    "        first_batting_loses +=1\n",
    "        \n",
    "for loser , lose_by_wickets in zip(df['Winner'] , df['Win by Wickets']):\n",
    "    if(loser == 'Zimbabwe' and win_by_wickets is not np.nan):\n",
    "        chasing_loses +=1\n",
    "\n",
    "first_batting_loses,chasing_loses"
   ]
  },
  {
   "cell_type": "code",
   "execution_count": 48,
   "metadata": {},
   "outputs": [
    {
     "data": {
      "image/png": "[encoded data removed]",
      "text/plain": [
       "<Figure size 720x432 with 1 Axes>"
      ]
     },
     "metadata": {},
     "output_type": "display_data"
    }
   ],
   "source": [
    "losing_type = ['Batting First' , 'Chasing']\n",
    "losing_counts = []\n",
    "losing_counts.append(first_batting_loses)\n",
    "losing_counts.append(chasing_loses)\n",
    "\n",
    "plt.figure(figsize=(10,6))\n",
    "plt.pie(losing_counts , labels=losing_type ,autopct='%0.1f%%')\n",
    "plt.legend(losing_type)\n",
    "plt.axis('equal')\n",
    "plt.show()"
   ]
  },
  {
   "cell_type": "markdown",
   "metadata": {},
   "source": [
    "Zimbabwe lost all the matches while chasing"
   ]
  },
  {
   "cell_type": "code",
   "execution_count": null,
   "metadata": {},
   "outputs": [],
   "source": []
  }
 ],
 "metadata": {
  "kernelspec": {
   "display_name": "Python 3.8.5 64-bit",
   "language": "python",
   "name": "python38564bitd949a475ec7c4ff0990d1aff75c13a26"
  },
  "language_info": {
   "codemirror_mode": {
    "name": "ipython",
    "version": 3
   },
   "file_extension": ".py",
   "mimetype": "text/x-python",
   "name": "python",
   "nbconvert_exporter": "python",
   "pygments_lexer": "ipython3",
   "version": "3.8.5"
  }
 },
 "nbformat": 4,
 "nbformat_minor": 4
}
